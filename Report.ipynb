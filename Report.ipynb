{
 "cells": [
  {
   "cell_type": "markdown",
   "metadata": {},
   "source": [
    "<h1>IBM Data Science CapStone Project - Coursera<\\h1>"
   ]
  },
  {
   "cell_type": "markdown",
   "metadata": {},
   "source": [
    "This notebook is for the capstone project for the 9-courses specialization in Data Science of IBM. Platform Coursera. Data Science Specialization\n",
    "This project will try to solve a problem or question by applying data science methods on the location data gotten from FourSquare API."
   ]
  },
  {
   "cell_type": "markdown",
   "metadata": {},
   "source": [
    "<h2>Sushmita Rath<\\h2>"
   ]
  },
  {
   "cell_type": "markdown",
   "metadata": {},
   "source": [
    "Email: sushrath@gmail.com"
   ]
  },
  {
   "cell_type": "markdown",
   "metadata": {},
   "source": [
    "Place: United States"
   ]
  },
  {
   "cell_type": "markdown",
   "metadata": {},
   "source": [
    "<h1>Description of the Project: Opening a Indian Restaurant in Seattle <\\h1>"
   ]
  },
  {
   "cell_type": "markdown",
   "metadata": {},
   "source": [
    "<h2>1. Introduction: <\\h2>"
   ]
  },
  {
   "cell_type": "markdown",
   "metadata": {},
   "source": [
    "Eating out is a major part of our social life. It can be comfortable, fun and entertaining. \n",
    "Old-school dining traditions have stuck around in the form of classic diners, and some of the country's oldest restaurants make a point of keeping history on display, but a lot has changed since the days of drive-ins and jukeboxes in the late '60s.\n",
    "Who ever has come to Seattle will be enchanted by her beauty and atmosphere, with vibrant life, never-ending to-do list, booming business at every corners, and by the expertly-planned transport system which can take you everywhere in the city.\n",
    "Seattle is famous worldwide as the Tech hub and the \"tourist must go to\" city in North America.\n"
   ]
  },
  {
   "cell_type": "markdown",
   "metadata": {},
   "source": [
    "Thousands of people dream of starting and owning a successful restaurant. The key word, of course, is \"successful.\"\n",
    "Looking for a \"Perfect Location\" is one of the most important factor towards the path to success."
   ]
  },
  {
   "cell_type": "markdown",
   "metadata": {},
   "source": [
    "<h2> 2. Business Problem<\\h2>"
   ]
  },
  {
   "cell_type": "markdown",
   "metadata": {},
   "source": [
    "<h4>The Objective of this Project is to analyze which location in the city is the most favorable to Open an Indian Restaurant.<\\h4>"
   ]
  },
  {
   "cell_type": "markdown",
   "metadata": {},
   "source": [
    "<h2> 3. Solution Strategy<\\h2>"
   ]
  },
  {
   "cell_type": "markdown",
   "metadata": {},
   "source": [
    "This project will try to explore the neighborhoods of Seattle  to see:\n",
    "\n",
    "if the surrounding venues can help find a favorable location to start an Indian Restuarant."
   ]
  },
  {
   "cell_type": "markdown",
   "metadata": {},
   "source": [
    "<h4> Data Collection <\\h4>"
   ]
  },
  {
   "cell_type": "markdown",
   "metadata": {},
   "source": [
    "The main data used for this project will be from following sources:\n",
    "\n",
    "\n",
    "The venues in each neighborhood. (FourSquare API)\n",
    "Other supporting data:\n",
    "\n",
    "Coordinates (Geocoder Python)\n",
    "GeoJson (http://data.beta.nyc)\n",
    "*Note: This project will only consider the number of similar restaurants Present in a particular neighborhood."
   ]
  },
  {
   "cell_type": "markdown",
   "metadata": {},
   "source": [
    "1. Data collection process:\n",
    "    \n",
    "-call Geocoder Python to get city's coordinate.\n",
    "\n",
    "-call FourSquare API to get the surrounding venues.\n",
    "\n",
    "-Count the occurrences of each venue type and attach that information to each neighborhood.\n",
    "\n",
    "\n",
    "    \n",
    "2. Using data to solve the question:\n",
    "    \n",
    "-We will visualize the concentration of Indian restaurants around Seattle ."
   ]
  },
  {
   "cell_type": "code",
   "execution_count": null,
   "metadata": {},
   "outputs": [],
   "source": []
  }
 ],
 "metadata": {
  "kernelspec": {
   "display_name": "Python",
   "language": "python",
   "name": "conda-env-python-py"
  },
  "language_info": {
   "codemirror_mode": {
    "name": "ipython",
    "version": 3
   },
   "file_extension": ".py",
   "mimetype": "text/x-python",
   "name": "python",
   "nbconvert_exporter": "python",
   "pygments_lexer": "ipython3",
   "version": "3.6.7"
  }
 },
 "nbformat": 4,
 "nbformat_minor": 4
}
